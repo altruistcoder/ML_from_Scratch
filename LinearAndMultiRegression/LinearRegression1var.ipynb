{
 "cells": [
  {
   "cell_type": "code",
   "execution_count": 39,
   "metadata": {},
   "outputs": [
    {
     "name": "stdout",
     "output_type": "stream",
     "text": [
      "-3.85208068134 1.1886434854\n"
     ]
    },
    {
     "data": {
      "image/png": "[encoded data removed]",
      "text/plain": [
       "<matplotlib.figure.Figure at 0x117189748>"
      ]
     },
     "metadata": {},
     "output_type": "display_data"
    }
   ],
   "source": [
    "import matplotlib.pyplot as plt\n",
    "import numpy as np\n",
    "import pandas as pd\n",
    "def cost(x,y,theta0,theta1,m):\n",
    "    a=0\n",
    "    for i in range(m):\n",
    "        a += (theta1*x[i] + theta0 - y[i])**2\n",
    "    f=(a/(2*m))\n",
    "    return f  \n",
    "def hypo(x,y,theta0,theta1):\n",
    "    return (theta0 + theta1*x)\n",
    "df = pd.read_csv('ex1data1.txt', delimiter=',', header=None, names=['x','y'])\n",
    "m = df.shape[0]\n",
    "x=df.x.values\n",
    "y = df.y.values\n",
    "theta = np.array([0.0,0.0])\n",
    "theta0=0\n",
    "theta1=0\n",
    "alpha = 0.01\n",
    "a = np.array([0.0,0.0])\n",
    "for k in range(2500):\n",
    "    a0=0\n",
    "    a1=0\n",
    "    for j in range(m):\n",
    "        a0+=(theta0+(theta1*x[j])-y[j])\n",
    "        a1+=((theta0+(theta1*x[j])-y[j])*x[j])\n",
    "    temp0=theta0 - ((alpha)/m)*a0\n",
    "    temp1 = theta1 - ((alpha)/m)*a1\n",
    "    theta0=temp0\n",
    "    theta1 = temp1\n",
    "    f=float(cost(x,y,theta0,theta1,m))\n",
    "    plt.scatter(k,f,color='b')\n",
    "print(theta0,theta1)\n",
    "plt.show()"
   ]
  },
  {
   "cell_type": "code",
   "execution_count": 36,
   "metadata": {},
   "outputs": [
    {
     "data": {
      "image/png": "[encoded data removed]",
      "text/plain": [
       "<matplotlib.figure.Figure at 0x1124efd68>"
      ]
     },
     "metadata": {},
     "output_type": "display_data"
    }
   ],
   "source": [
    "f=[]\n",
    "plt.scatter(x,y,color='r')\n",
    "t=m\n",
    "for i in range(t):\n",
    "    a = (theta0 + theta1*x[i])\n",
    "    f.append(a)\n",
    "plt.plot(x,f,color='g')\n",
    "plt.show()"
   ]
  },
  {
   "cell_type": "code",
   "execution_count": null,
   "metadata": {
    "collapsed": true
   },
   "outputs": [],
   "source": []
  }
 ],
 "metadata": {
  "kernelspec": {
   "display_name": "Python 3",
   "language": "python",
   "name": "python3"
  },
  "language_info": {
   "codemirror_mode": {
    "name": "ipython",
    "version": 3
   },
   "file_extension": ".py",
   "mimetype": "text/x-python",
   "name": "python",
   "nbconvert_exporter": "python",
   "pygments_lexer": "ipython3",
   "version": "3.6.4"
  }
 },
 "nbformat": 4,
 "nbformat_minor": 2
}
