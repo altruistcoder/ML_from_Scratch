{
 "cells": [
  {
   "cell_type": "code",
   "execution_count": 1,
   "metadata": {},
   "outputs": [
    {
     "name": "stdout",
     "output_type": "stream",
     "text": [
      "(5000, 1) (5000, 401)\n"
     ]
    }
   ],
   "source": [
    "import numpy as np\n",
    "import pandas as pd\n",
    "from scipy.io import loadmat\n",
    "from scipy.optimize import fmin_tnc\n",
    "import matplotlib.pyplot as plt\n",
    "import scipy.optimize as opt\n",
    "data = loadmat('ex3data1.mat')\n",
    "X = data['X']\n",
    "Y = data['y']\n",
    "m = len(Y)\n",
    "ones = np.ones((m,1))\n",
    "X = np.hstack((ones,X))\n",
    "n = X.shape[1]\n",
    "print(Y.shape,X.shape)"
   ]
  },
  {
   "cell_type": "code",
   "execution_count": 2,
   "metadata": {
    "collapsed": true
   },
   "outputs": [],
   "source": [
    "def sigmoid(z):\n",
    "    return 1/(1+np.exp(-z))"
   ]
  },
  {
   "cell_type": "code",
   "execution_count": 3,
   "metadata": {
    "collapsed": true
   },
   "outputs": [],
   "source": [
    "def cost(theta,x,y,lmbda):\n",
    "    m = len(y)\n",
    "    J = (-1/m)*((y@np.log(sigmoid(x@theta)))+((1-y)@np.log(1-sigmoid(x@theta))))\n",
    "    reg = (lmbda/(2*m)) * (theta[1:].T@theta[1:])\n",
    "    return J+reg\n"
   ]
  },
  {
   "cell_type": "code",
   "execution_count": 48,
   "metadata": {
    "collapsed": true
   },
   "outputs": [],
   "source": [
    "def gradient(theta,x,y,lmbda):\n",
    "    m = len(y)\n",
    "    grad = sigmoid(np.dot(X, theta)) - y\n",
    "    grad = np.dot(grad.T, X).T / m + theta * lmbda / m\n",
    "    grad[0] = grad[0] - grad[0] * lmbda / m\n",
    "    return grad"
   ]
  },
  {
   "cell_type": "code",
   "execution_count": 80,
   "metadata": {},
   "outputs": [
    {
     "name": "stdout",
     "output_type": "stream",
     "text": [
      "Warning: Maximum number of iterations has been exceeded.\n",
      "         Current function value: 0.009158\n",
      "         Iterations: 50\n",
      "         Function evaluations: 182\n",
      "         Gradient evaluations: 182\n",
      "Warning: Maximum number of iterations has been exceeded.\n",
      "         Current function value: 0.013977\n",
      "         Iterations: 50\n",
      "         Function evaluations: 182\n",
      "         Gradient evaluations: 182\n",
      "Warning: Maximum number of iterations has been exceeded.\n",
      "         Current function value: 0.057662\n",
      "         Iterations: 50\n",
      "         Function evaluations: 143\n",
      "         Gradient evaluations: 143\n",
      "Warning: Maximum number of iterations has been exceeded.\n",
      "         Current function value: 0.063713\n",
      "         Iterations: 50\n",
      "         Function evaluations: 140\n",
      "         Gradient evaluations: 140\n",
      "Warning: Maximum number of iterations has been exceeded.\n",
      "         Current function value: 0.036536\n",
      "         Iterations: 50\n",
      "         Function evaluations: 154\n",
      "         Gradient evaluations: 154\n",
      "Warning: Maximum number of iterations has been exceeded.\n",
      "         Current function value: 0.061247\n",
      "         Iterations: 50\n",
      "         Function evaluations: 132\n",
      "         Gradient evaluations: 132\n",
      "Warning: Maximum number of iterations has been exceeded.\n",
      "         Current function value: 0.021174\n",
      "         Iterations: 50\n",
      "         Function evaluations: 167\n",
      "         Gradient evaluations: 167\n",
      "Warning: Maximum number of iterations has been exceeded.\n",
      "         Current function value: 0.034241\n",
      "         Iterations: 50\n",
      "         Function evaluations: 158\n",
      "         Gradient evaluations: 158\n",
      "Warning: Maximum number of iterations has been exceeded.\n",
      "         Current function value: 0.084355\n",
      "         Iterations: 50\n",
      "         Function evaluations: 127\n",
      "         Gradient evaluations: 127\n",
      "Warning: Maximum number of iterations has been exceeded.\n",
      "         Current function value: 0.075631\n",
      "         Iterations: 50\n",
      "         Function evaluations: 132\n",
      "         Gradient evaluations: 132\n"
     ]
    }
   ],
   "source": [
    "lmbda = 0.1\n",
    "k = 10\n",
    "theta = np.zeros((k,n))\n",
    "for i in range(k):\n",
    "    digit_class = i if i else 10\n",
    "    theta[i] = opt.fmin_cg(f = cost, x0 = theta[i],  fprime = gradient, args = (X, (Y == digit_class).flatten(), lmbda), maxiter = 50)\n",
    "\n",
    "    "
   ]
  },
  {
   "cell_type": "code",
   "execution_count": 70,
   "metadata": {},
   "outputs": [
    {
     "data": {
      "text/plain": [
       "95.02000000000001"
      ]
     },
     "execution_count": 70,
     "metadata": {},
     "output_type": "execute_result"
    }
   ],
   "source": [
    "pred = np.argmax(X @ theta.T,axis=1)\n",
    "pred = [e if e else 10 for e in pred]\n",
    "np.mean(pred == y.flatten()) * 100"
   ]
  },
  {
   "cell_type": "code",
   "execution_count": null,
   "metadata": {
    "collapsed": true
   },
   "outputs": [],
   "source": []
  }
 ],
 "metadata": {
  "kernelspec": {
   "display_name": "Python 3",
   "language": "python",
   "name": "python3"
  },
  "language_info": {
   "codemirror_mode": {
    "name": "ipython",
    "version": 3
   },
   "file_extension": ".py",
   "mimetype": "text/x-python",
   "name": "python",
   "nbconvert_exporter": "python",
   "pygments_lexer": "ipython3",
   "version": "3.6.4"
  }
 },
 "nbformat": 4,
 "nbformat_minor": 2
}
